{
  "nbformat": 4,
  "nbformat_minor": 0,
  "metadata": {
    "colab": {
      "provenance": [],
      "toc_visible": true
    },
    "kernelspec": {
      "name": "python3",
      "display_name": "Python 3"
    },
    "language_info": {
      "name": "python"
    }
  },
  "cells": [
    {
      "cell_type": "markdown",
      "source": [
        " Args:\n",
        "\n",
        "      fitness_function: Function to evaluate solution fitness.\n",
        "\n",
        "      search_space: List of tuples defining search space boundaries for each dimension.\n",
        "\n",
        "      population_size: Number of wolves in the population.\n",
        "      \n",
        "      max_iterations: Maximum number of iterations.\n",
        "      \n",
        "      c1, c2: Weighting factors for prey distance calculation (exploration vs. exploitation).\n",
        "      \n",
        "      w: Inertia weight for position update (momentum)."
      ],
      "metadata": {
        "id": "7rKkG1woKUOt"
      }
    },
    {
      "cell_type": "code",
      "execution_count": null,
      "metadata": {
        "colab": {
          "base_uri": "https://localhost:8080/"
        },
        "id": "aSkqSEAxJXzB",
        "outputId": "f5123375-d3d0-4ac8-ae07-e6de1e116662"
      },
      "outputs": [
        {
          "output_type": "stream",
          "name": "stdout",
          "text": [
            "Best solution found: [100, 100]\n"
          ]
        }
      ],
      "source": [
        "import random\n",
        "import numpy as np\n",
        "\n",
        "def wolf_search_algorithm(fitness_function, search_space, population_size, max_iterations,\n",
        "                           c1=2, c2=2, w=0.9):\n",
        "\n",
        "  # Initialize population\n",
        "  wolves = []\n",
        "  for _ in range(population_size):\n",
        "    wolf = [random.uniform(bound[0], bound[1]) for bound in search_space]\n",
        "    wolves.append(wolf)\n",
        "\n",
        "  # Main loop\n",
        "  for iteration in range(max_iterations):\n",
        "    # Evaluate fitness\n",
        "    fitness = [fitness_function(wolf) for wolf in wolves]\n",
        "\n",
        "    # Identify Alpha, Beta, Omega\n",
        "    alpha_idx, beta_idx, omega_idx = sorted(range(len(fitness)), key=lambda x: -fitness[x])[:3]\n",
        "    alpha, beta, omega = wolves[alpha_idx], wolves[beta_idx], wolves[omega_idx]\n",
        "\n",
        "    # Update positions\n",
        "    for i, wolf in enumerate(wolves):\n",
        "      if i not in (alpha_idx, beta_idx, omega_idx):\n",
        "        # Calculate distances to Alpha, Beta, Omega\n",
        "        d_alpha = np.abs(np.subtract(wolf, alpha))\n",
        "        d_beta = np.abs(np.subtract(wolf, beta))\n",
        "        d_omega = np.abs(np.subtract(wolf, omega))\n",
        "\n",
        "        # Random weighting factors for prey distance\n",
        "        r1 = random.uniform(0, 1)\n",
        "        r2 = random.uniform(0, 1)\n",
        "\n",
        "        # Update position with weighted distances and inertia\n",
        "        wolf = [(w * wi + c1 * r1 * d1 + c2 * r2 * d2)\n",
        "                for wi, d1, d2 in zip(wolf, w * d_alpha, w * (d_beta + d_omega) / 2)]\n",
        "\n",
        "        # Avoid boundary violation\n",
        "        wolf = [max(min(w, bound[1]), bound[0]) for w, bound in zip(wolf, search_space)]\n",
        "\n",
        "        wolves[i] = wolf\n",
        "\n",
        "    # Update inertia weight (optional for decaying momentum)\n",
        "    w *= 0.9  # Example decay rate\n",
        "\n",
        "    # Update fitness for new positions\n",
        "    fitness = [fitness_function(wolf) for wolf in wolves]\n",
        "\n",
        "  # Return best solution (Alpha)\n",
        "  return wolves[alpha_idx]\n",
        "\n",
        "# Example usage (replace with your specific fitness function and search space)\n",
        "def fitness_function(wolf):\n",
        "  # Your fitness function here\n",
        "  return sum(wolf)\n",
        "\n",
        "search_space = [(-100, 100), (-100, 100)]  # 2D search space example\n",
        "population_size = 200\n",
        "max_iterations = 500\n",
        "\n",
        "best_solution = wolf_search_algorithm(fitness_function, search_space, population_size, max_iterations)\n",
        "\n",
        "print(\"Best solution found:\", best_solution)\n"
      ]
    }
  ]
}